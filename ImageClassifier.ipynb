{
  "nbformat": 4,
  "nbformat_minor": 0,
  "metadata": {
    "colab": {
      "name": "ImageClassifier.ipynb",
      "provenance": [],
      "collapsed_sections": [],
      "authorship_tag": "ABX9TyN4xsrrBRSnOiDcBiovWKZj",
      "include_colab_link": true
    },
    "kernelspec": {
      "name": "python3",
      "display_name": "Python 3"
    },
    "widgets": {
      "application/vnd.jupyter.widget-state+json": {
        "fa9d068e4f104220aa4d0b25c4a31230": {
          "model_module": "@jupyter-widgets/controls",
          "model_name": "HBoxModel",
          "state": {
            "_view_name": "HBoxView",
            "_dom_classes": [],
            "_model_name": "HBoxModel",
            "_view_module": "@jupyter-widgets/controls",
            "_model_module_version": "1.5.0",
            "_view_count": null,
            "_view_module_version": "1.5.0",
            "box_style": "",
            "layout": "IPY_MODEL_7dbe737e5a964f548bf4f62fe5a9ffe1",
            "_model_module": "@jupyter-widgets/controls",
            "children": [
              "IPY_MODEL_2b32c43fbb56485fa258e9edf0840b11",
              "IPY_MODEL_55b5bc51c8c147e38a82a6aae5c19ee0"
            ]
          }
        },
        "7dbe737e5a964f548bf4f62fe5a9ffe1": {
          "model_module": "@jupyter-widgets/base",
          "model_name": "LayoutModel",
          "state": {
            "_view_name": "LayoutView",
            "grid_template_rows": null,
            "right": null,
            "justify_content": null,
            "_view_module": "@jupyter-widgets/base",
            "overflow": null,
            "_model_module_version": "1.2.0",
            "_view_count": null,
            "flex_flow": null,
            "width": null,
            "min_width": null,
            "border": null,
            "align_items": null,
            "bottom": null,
            "_model_module": "@jupyter-widgets/base",
            "top": null,
            "grid_column": null,
            "overflow_y": null,
            "overflow_x": null,
            "grid_auto_flow": null,
            "grid_area": null,
            "grid_template_columns": null,
            "flex": null,
            "_model_name": "LayoutModel",
            "justify_items": null,
            "grid_row": null,
            "max_height": null,
            "align_content": null,
            "visibility": null,
            "align_self": null,
            "height": null,
            "min_height": null,
            "padding": null,
            "grid_auto_rows": null,
            "grid_gap": null,
            "max_width": null,
            "order": null,
            "_view_module_version": "1.2.0",
            "grid_template_areas": null,
            "object_position": null,
            "object_fit": null,
            "grid_auto_columns": null,
            "margin": null,
            "display": null,
            "left": null
          }
        },
        "2b32c43fbb56485fa258e9edf0840b11": {
          "model_module": "@jupyter-widgets/controls",
          "model_name": "FloatProgressModel",
          "state": {
            "_view_name": "ProgressView",
            "style": "IPY_MODEL_19dc1a25843a4b81a44f1ffe8f66fbd1",
            "_dom_classes": [],
            "description": "",
            "_model_name": "FloatProgressModel",
            "bar_style": "info",
            "max": 1,
            "_view_module": "@jupyter-widgets/controls",
            "_model_module_version": "1.5.0",
            "value": 1,
            "_view_count": null,
            "_view_module_version": "1.5.0",
            "orientation": "horizontal",
            "min": 0,
            "description_tooltip": null,
            "_model_module": "@jupyter-widgets/controls",
            "layout": "IPY_MODEL_10591d1fb0c746dc9630003033998f69"
          }
        },
        "55b5bc51c8c147e38a82a6aae5c19ee0": {
          "model_module": "@jupyter-widgets/controls",
          "model_name": "HTMLModel",
          "state": {
            "_view_name": "HTMLView",
            "style": "IPY_MODEL_432600b9a5a84343b2484ba8795cb1ee",
            "_dom_classes": [],
            "description": "",
            "_model_name": "HTMLModel",
            "placeholder": "​",
            "_view_module": "@jupyter-widgets/controls",
            "_model_module_version": "1.5.0",
            "value": " 170500096/? [00:30&lt;00:00, 16005902.60it/s]",
            "_view_count": null,
            "_view_module_version": "1.5.0",
            "description_tooltip": null,
            "_model_module": "@jupyter-widgets/controls",
            "layout": "IPY_MODEL_480321b6be0942659a1da2285434e45a"
          }
        },
        "19dc1a25843a4b81a44f1ffe8f66fbd1": {
          "model_module": "@jupyter-widgets/controls",
          "model_name": "ProgressStyleModel",
          "state": {
            "_view_name": "StyleView",
            "_model_name": "ProgressStyleModel",
            "description_width": "initial",
            "_view_module": "@jupyter-widgets/base",
            "_model_module_version": "1.5.0",
            "_view_count": null,
            "_view_module_version": "1.2.0",
            "bar_color": null,
            "_model_module": "@jupyter-widgets/controls"
          }
        },
        "10591d1fb0c746dc9630003033998f69": {
          "model_module": "@jupyter-widgets/base",
          "model_name": "LayoutModel",
          "state": {
            "_view_name": "LayoutView",
            "grid_template_rows": null,
            "right": null,
            "justify_content": null,
            "_view_module": "@jupyter-widgets/base",
            "overflow": null,
            "_model_module_version": "1.2.0",
            "_view_count": null,
            "flex_flow": null,
            "width": null,
            "min_width": null,
            "border": null,
            "align_items": null,
            "bottom": null,
            "_model_module": "@jupyter-widgets/base",
            "top": null,
            "grid_column": null,
            "overflow_y": null,
            "overflow_x": null,
            "grid_auto_flow": null,
            "grid_area": null,
            "grid_template_columns": null,
            "flex": null,
            "_model_name": "LayoutModel",
            "justify_items": null,
            "grid_row": null,
            "max_height": null,
            "align_content": null,
            "visibility": null,
            "align_self": null,
            "height": null,
            "min_height": null,
            "padding": null,
            "grid_auto_rows": null,
            "grid_gap": null,
            "max_width": null,
            "order": null,
            "_view_module_version": "1.2.0",
            "grid_template_areas": null,
            "object_position": null,
            "object_fit": null,
            "grid_auto_columns": null,
            "margin": null,
            "display": null,
            "left": null
          }
        },
        "432600b9a5a84343b2484ba8795cb1ee": {
          "model_module": "@jupyter-widgets/controls",
          "model_name": "DescriptionStyleModel",
          "state": {
            "_view_name": "StyleView",
            "_model_name": "DescriptionStyleModel",
            "description_width": "",
            "_view_module": "@jupyter-widgets/base",
            "_model_module_version": "1.5.0",
            "_view_count": null,
            "_view_module_version": "1.2.0",
            "_model_module": "@jupyter-widgets/controls"
          }
        },
        "480321b6be0942659a1da2285434e45a": {
          "model_module": "@jupyter-widgets/base",
          "model_name": "LayoutModel",
          "state": {
            "_view_name": "LayoutView",
            "grid_template_rows": null,
            "right": null,
            "justify_content": null,
            "_view_module": "@jupyter-widgets/base",
            "overflow": null,
            "_model_module_version": "1.2.0",
            "_view_count": null,
            "flex_flow": null,
            "width": null,
            "min_width": null,
            "border": null,
            "align_items": null,
            "bottom": null,
            "_model_module": "@jupyter-widgets/base",
            "top": null,
            "grid_column": null,
            "overflow_y": null,
            "overflow_x": null,
            "grid_auto_flow": null,
            "grid_area": null,
            "grid_template_columns": null,
            "flex": null,
            "_model_name": "LayoutModel",
            "justify_items": null,
            "grid_row": null,
            "max_height": null,
            "align_content": null,
            "visibility": null,
            "align_self": null,
            "height": null,
            "min_height": null,
            "padding": null,
            "grid_auto_rows": null,
            "grid_gap": null,
            "max_width": null,
            "order": null,
            "_view_module_version": "1.2.0",
            "grid_template_areas": null,
            "object_position": null,
            "object_fit": null,
            "grid_auto_columns": null,
            "margin": null,
            "display": null,
            "left": null
          }
        }
      }
    }
  },
  "cells": [
    {
      "cell_type": "markdown",
      "metadata": {
        "id": "view-in-github",
        "colab_type": "text"
      },
      "source": [
        "<a href=\"https://colab.research.google.com/github/XavierCarrera/machine-learning/blob/master/ImageClassifier.ipynb\" target=\"_parent\"><img src=\"https://colab.research.google.com/assets/colab-badge.svg\" alt=\"Open In Colab\"/></a>"
      ]
    },
    {
      "cell_type": "code",
      "metadata": {
        "id": "jNmASZzIvS0q"
      },
      "source": [
        "import torch\n",
        "import torch.nn as nn\n",
        "import torch.optim as optim\n",
        "\n",
        "from torchvision import utils\n",
        "from torchvision import datasets\n",
        "from torchvision import transforms\n",
        "\n",
        "from PIL import Image\n",
        "import urllib.request as request\n",
        "from matplotlib import pyplot as plt"
      ],
      "execution_count": 1,
      "outputs": []
    },
    {
      "cell_type": "code",
      "metadata": {
        "id": "s8HIWlyTvdp5",
        "outputId": "33a61566-f47a-45e8-ce26-ed97c4a40475",
        "colab": {
          "base_uri": "https://localhost:8080/",
          "height": 100,
          "referenced_widgets": [
            "fa9d068e4f104220aa4d0b25c4a31230",
            "7dbe737e5a964f548bf4f62fe5a9ffe1",
            "2b32c43fbb56485fa258e9edf0840b11",
            "55b5bc51c8c147e38a82a6aae5c19ee0",
            "19dc1a25843a4b81a44f1ffe8f66fbd1",
            "10591d1fb0c746dc9630003033998f69",
            "432600b9a5a84343b2484ba8795cb1ee",
            "480321b6be0942659a1da2285434e45a"
          ]
        }
      },
      "source": [
        "data_path = 'data/'\n",
        "full_data_set = datasets.CIFAR10(data_path, train=True, download=True,\n",
        "                          transform=transforms.Compose([\n",
        "                              transforms.ToTensor(),\n",
        "                              transforms.Normalize((0.4915, 0.4823, 0.4468),\n",
        "                                                   (0.2470, 0.2435, 0.2616))\n",
        "                          ]))\n",
        "\n",
        "full_validation_set = datasets.CIFAR10(data_path, train=False, download=True,\n",
        "                          transform=transforms.Compose([\n",
        "                              transforms.ToTensor(),\n",
        "                              transforms.Normalize((0.4915, 0.4823, 0.4468),\n",
        "                                                   (0.2470, 0.2435, 0.2616))\n",
        "                          ]))"
      ],
      "execution_count": 3,
      "outputs": [
        {
          "output_type": "stream",
          "text": [
            "Downloading https://www.cs.toronto.edu/~kriz/cifar-10-python.tar.gz to data/cifar-10-python.tar.gz\n"
          ],
          "name": "stdout"
        },
        {
          "output_type": "display_data",
          "data": {
            "application/vnd.jupyter.widget-view+json": {
              "model_id": "fa9d068e4f104220aa4d0b25c4a31230",
              "version_minor": 0,
              "version_major": 2
            },
            "text/plain": [
              "HBox(children=(FloatProgress(value=1.0, bar_style='info', max=1.0), HTML(value='')))"
            ]
          },
          "metadata": {
            "tags": []
          }
        },
        {
          "output_type": "stream",
          "text": [
            "Extracting data/cifar-10-python.tar.gz to data/\n",
            "Files already downloaded and verified\n"
          ],
          "name": "stdout"
        }
      ]
    },
    {
      "cell_type": "code",
      "metadata": {
        "id": "mfeElw4Tvtr-"
      },
      "source": [
        "size = 4\n",
        "dataloader = torch.utils.data.DataLoader(full_data_set, batch_size=size, shuffle=True, num_workers=2)"
      ],
      "execution_count": 4,
      "outputs": []
    },
    {
      "cell_type": "code",
      "metadata": {
        "id": "qJFidrtAvxn1",
        "outputId": "df8fb25f-cbf8-428d-b653-94ddd9321e97",
        "colab": {
          "base_uri": "https://localhost:8080/",
          "height": 223
        }
      },
      "source": [
        "data_iterator = iter(dataloader)\n",
        "imgs, labels = data_iterator.next()\n",
        "\n",
        "classes = ['plane','car','bird','cat','deer','dog','frog','horse','ship','truck']\n",
        "\n",
        "plt.imshow(utils.make_grid(imgs).permute(1, 2, 0))\n",
        "\n",
        "for i in range(size):\n",
        "  print(classes[labels[i]])"
      ],
      "execution_count": 5,
      "outputs": [
        {
          "output_type": "stream",
          "text": [
            "Clipping input data to the valid range for imshow with RGB data ([0..1] for floats or [0..255] for integers).\n"
          ],
          "name": "stderr"
        },
        {
          "output_type": "stream",
          "text": [
            "car\n",
            "horse\n",
            "horse\n",
            "bird\n"
          ],
          "name": "stdout"
        },
        {
          "output_type": "display_data",
          "data": {
            "image/png": "[encoded data removed]",
            "text/plain": [
              "<Figure size 432x288 with 1 Axes>"
            ]
          },
          "metadata": {
            "tags": [],
            "needs_background": "light"
          }
        }
      ]
    },
    {
      "cell_type": "code",
      "metadata": {
        "id": "opbxcB59wMLx"
      },
      "source": [
        "class_names = ['car', 'cat']\n",
        "\n",
        "label_map = {1: 0, 3: 1}\n",
        "\n",
        "data_set = [(img, label_map[label]) for img, label in full_data_set if label in [1, 3]]\n",
        "validation_set = [(img, label_map[label]) for img, label in full_validation_set if label in [1, 3]]"
      ],
      "execution_count": 7,
      "outputs": []
    },
    {
      "cell_type": "code",
      "metadata": {
        "id": "JsamL0EswXqa",
        "outputId": "6a9a95c2-d562-453e-b508-1e0297958d57",
        "colab": {
          "base_uri": "https://localhost:8080/",
          "height": 34
        }
      },
      "source": [
        "img, label = data_set[20]\n",
        "img.shape"
      ],
      "execution_count": 8,
      "outputs": [
        {
          "output_type": "execute_result",
          "data": {
            "text/plain": [
              "torch.Size([3, 32, 32])"
            ]
          },
          "metadata": {
            "tags": []
          },
          "execution_count": 8
        }
      ]
    },
    {
      "cell_type": "code",
      "metadata": {
        "id": "62neVmk4wd6r"
      },
      "source": [
        "model = nn.Sequential(\n",
        "            nn.Linear(3 * 32 * 32, 512),\n",
        "            nn.Tanh(),\n",
        "            nn.Linear(512, 2))"
      ],
      "execution_count": 9,
      "outputs": []
    },
    {
      "cell_type": "code",
      "metadata": {
        "id": "1-M6hyUSwgo0"
      },
      "source": [
        "def sigmoid(x):\n",
        "  return 1 / (1 + torch.exp(-x))"
      ],
      "execution_count": 10,
      "outputs": []
    },
    {
      "cell_type": "code",
      "metadata": {
        "id": "uUPa6jT_wn_D",
        "outputId": "a2b0cb87-4260-43f2-c10b-4e2e7621fda9",
        "colab": {
          "base_uri": "https://localhost:8080/",
          "height": 34
        }
      },
      "source": [
        "x = torch.tensor([1.0, 2.0, 3.0])\n",
        "\n",
        "sigmoid(x)"
      ],
      "execution_count": 11,
      "outputs": [
        {
          "output_type": "execute_result",
          "data": {
            "text/plain": [
              "tensor([0.7311, 0.8808, 0.9526])"
            ]
          },
          "metadata": {
            "tags": []
          },
          "execution_count": 11
        }
      ]
    },
    {
      "cell_type": "code",
      "metadata": {
        "id": "ytuvfQTnwsKi",
        "outputId": "2ea490d9-85bb-4525-bdb0-1345d350f059",
        "colab": {
          "base_uri": "https://localhost:8080/",
          "height": 34
        }
      },
      "source": [
        "sigmoid(x).sum()"
      ],
      "execution_count": 12,
      "outputs": [
        {
          "output_type": "execute_result",
          "data": {
            "text/plain": [
              "tensor(2.5644)"
            ]
          },
          "metadata": {
            "tags": []
          },
          "execution_count": 12
        }
      ]
    },
    {
      "cell_type": "code",
      "metadata": {
        "id": "_Tau4hzqwt41"
      },
      "source": [
        "def softmax(x):\n",
        "    return torch.exp(x) / torch.exp(x).sum()"
      ],
      "execution_count": 13,
      "outputs": []
    },
    {
      "cell_type": "code",
      "metadata": {
        "id": "YQJbkMYSxHP-",
        "outputId": "4abc9fcd-1217-4352-86bb-6f03782ca85e",
        "colab": {
          "base_uri": "https://localhost:8080/",
          "height": 34
        }
      },
      "source": [
        "softmax(x)"
      ],
      "execution_count": 15,
      "outputs": [
        {
          "output_type": "execute_result",
          "data": {
            "text/plain": [
              "tensor([0.0900, 0.2447, 0.6652])"
            ]
          },
          "metadata": {
            "tags": []
          },
          "execution_count": 15
        }
      ]
    },
    {
      "cell_type": "code",
      "metadata": {
        "id": "YT7Kcz30xQs1",
        "outputId": "fceccaa4-f950-4947-e313-d4b05d897c38",
        "colab": {
          "base_uri": "https://localhost:8080/",
          "height": 34
        }
      },
      "source": [
        "softmax(x).sum()"
      ],
      "execution_count": 16,
      "outputs": [
        {
          "output_type": "execute_result",
          "data": {
            "text/plain": [
              "tensor(1.)"
            ]
          },
          "metadata": {
            "tags": []
          },
          "execution_count": 16
        }
      ]
    },
    {
      "cell_type": "code",
      "metadata": {
        "id": "4gWqlzm5xSWw",
        "outputId": "bbe01abd-4cb5-4707-da0c-b167db98407e",
        "colab": {
          "base_uri": "https://localhost:8080/",
          "height": 51
        }
      },
      "source": [
        "softmax = nn.Softmax(dim=1)\n",
        "\n",
        "x = torch.tensor([[1.0, 2.0, 3.0],\n",
        "                  [1.0, 2.0, 3.0]])\n",
        "\n",
        "softmax(x)"
      ],
      "execution_count": 17,
      "outputs": [
        {
          "output_type": "execute_result",
          "data": {
            "text/plain": [
              "tensor([[0.0900, 0.2447, 0.6652],\n",
              "        [0.0900, 0.2447, 0.6652]])"
            ]
          },
          "metadata": {
            "tags": []
          },
          "execution_count": 17
        }
      ]
    },
    {
      "cell_type": "code",
      "metadata": {
        "id": "WDEBgXEexU51"
      },
      "source": [
        "model = nn.Sequential(\n",
        "            nn.Linear(3072, 512),\n",
        "            nn.Tanh(),\n",
        "            nn.Linear(512, 2),\n",
        "            nn.Softmax(dim=1))"
      ],
      "execution_count": 18,
      "outputs": []
    },
    {
      "cell_type": "code",
      "metadata": {
        "id": "xGRvWSemxXBI",
        "outputId": "4589d676-09f5-4a90-812e-739c67b7ce3f",
        "colab": {
          "base_uri": "https://localhost:8080/",
          "height": 301
        }
      },
      "source": [
        "img, label = data_set[20]\n",
        "\n",
        "plt.imshow(img.permute(1, 2, 0))\n",
        "class_names[label]"
      ],
      "execution_count": 19,
      "outputs": [
        {
          "output_type": "stream",
          "text": [
            "Clipping input data to the valid range for imshow with RGB data ([0..1] for floats or [0..255] for integers).\n"
          ],
          "name": "stderr"
        },
        {
          "output_type": "execute_result",
          "data": {
            "application/vnd.google.colaboratory.intrinsic+json": {
              "type": "string"
            },
            "text/plain": [
              "'car'"
            ]
          },
          "metadata": {
            "tags": []
          },
          "execution_count": 19
        },
        {
          "output_type": "display_data",
          "data": {
            "image/png": "[encoded data removed]",
            "text/plain": [
              "<Figure size 432x288 with 1 Axes>"
            ]
          },
          "metadata": {
            "tags": [],
            "needs_background": "light"
          }
        }
      ]
    },
    {
      "cell_type": "code",
      "metadata": {
        "id": "eGP1MNVfxZen",
        "outputId": "9a8df81d-9a93-476b-9dd5-0a948c85a55d",
        "colab": {
          "base_uri": "https://localhost:8080/",
          "height": 34
        }
      },
      "source": [
        "out = model(img.view(-1).unsqueeze(0))\n",
        "out"
      ],
      "execution_count": 20,
      "outputs": [
        {
          "output_type": "execute_result",
          "data": {
            "text/plain": [
              "tensor([[0.4060, 0.5940]], grad_fn=<SoftmaxBackward>)"
            ]
          },
          "metadata": {
            "tags": []
          },
          "execution_count": 20
        }
      ]
    },
    {
      "cell_type": "code",
      "metadata": {
        "id": "RBlAkKZtxfHx",
        "outputId": "f7ef0132-969a-4e4b-ed6f-dd8b6c0c637a",
        "colab": {
          "base_uri": "https://localhost:8080/",
          "height": 34
        }
      },
      "source": [
        "_, index = torch.max(out, dim=1)\n",
        "\n",
        "print('->',class_names[label],' model:',class_names[index])"
      ],
      "execution_count": 21,
      "outputs": [
        {
          "output_type": "stream",
          "text": [
            "-> car  model: cat\n"
          ],
          "name": "stdout"
        }
      ]
    },
    {
      "cell_type": "markdown",
      "metadata": {
        "id": "NYBiMo4F0JY0"
      },
      "source": [
        "# Connected Classifier"
      ]
    },
    {
      "cell_type": "code",
      "metadata": {
        "id": "_fnPaXhD0GYi"
      },
      "source": [
        "model = nn.Sequential(\n",
        "            nn.Linear(3072, 512),\n",
        "            nn.Tanh(),\n",
        "            nn.Linear(512, 2),\n",
        "            nn.LogSoftmax(dim=1))\n",
        "\n",
        "loss = nn.NLLLoss()"
      ],
      "execution_count": 22,
      "outputs": []
    },
    {
      "cell_type": "code",
      "metadata": {
        "id": "GGl-hCje0ZLP",
        "outputId": "e1b34c4a-be74-4a69-9f85-e686881564ec",
        "colab": {
          "base_uri": "https://localhost:8080/",
          "height": 51
        }
      },
      "source": [
        "img, label = data_set[20]\n",
        "\n",
        "out = model(img.view(-1).unsqueeze(0))\n",
        "\n",
        "_, index = torch.max(out, dim=1)\n",
        "\n",
        "print('->',class_names[label],' model:',class_names[index])\n",
        "\n",
        "loss(out, torch.tensor([label]))"
      ],
      "execution_count": 23,
      "outputs": [
        {
          "output_type": "stream",
          "text": [
            "-> car  model: car\n"
          ],
          "name": "stdout"
        },
        {
          "output_type": "execute_result",
          "data": {
            "text/plain": [
              "tensor(0.5964, grad_fn=<NllLossBackward>)"
            ]
          },
          "metadata": {
            "tags": []
          },
          "execution_count": 23
        }
      ]
    },
    {
      "cell_type": "code",
      "metadata": {
        "id": "YlZMG_MV0jPt"
      },
      "source": [
        "model = nn.Sequential(\n",
        "            nn.Linear(3072, 512),\n",
        "            nn.Tanh(),\n",
        "            nn.Linear(512, 2),\n",
        "            nn.LogSoftmax(dim=1))"
      ],
      "execution_count": 24,
      "outputs": []
    },
    {
      "cell_type": "code",
      "metadata": {
        "id": "iuIvy1bf0svI",
        "outputId": "724cc912-883f-4042-b4d1-559c6acddfc7",
        "colab": {
          "base_uri": "https://localhost:8080/",
          "height": 102
        }
      },
      "source": [
        "learning_rate = 0.01\n",
        "\n",
        "optimizer = optim.SGD(model.parameters(), lr=learning_rate)\n",
        "\n",
        "lossFunction = nn.NLLLoss()\n",
        "\n",
        "n_epochs = 5 #100\n",
        "\n",
        "for epoch in range(n_epochs):\n",
        "    for img, label in data_set:\n",
        "        out = model(img.view(-1).unsqueeze(0))\n",
        "        loss = lossFunction(out, torch.tensor([label]))\n",
        "                \n",
        "        optimizer.zero_grad()\n",
        "        loss.backward()\n",
        "        optimizer.step()\n",
        "\n",
        "    print(\"Epoch: %d, Loss: %f\" % (epoch, float(loss)))"
      ],
      "execution_count": 25,
      "outputs": [
        {
          "output_type": "stream",
          "text": [
            "Epoch: 0, Loss: 0.000217\n",
            "Epoch: 1, Loss: 0.957573\n",
            "Epoch: 2, Loss: 0.090461\n",
            "Epoch: 3, Loss: 0.002655\n",
            "Epoch: 4, Loss: 0.570822\n"
          ],
          "name": "stdout"
        }
      ]
    },
    {
      "cell_type": "code",
      "metadata": {
        "id": "rUb73wG013Gy",
        "outputId": "7125e2ab-d8e0-4cab-862d-6dd770fc9616",
        "colab": {
          "base_uri": "https://localhost:8080/",
          "height": 1000
        }
      },
      "source": [
        "train_loader = torch.utils.data.DataLoader(data_set, batch_size=64, shuffle=True)\n",
        "\n",
        "model = nn.Sequential(\n",
        "            nn.Linear(3072, 512),\n",
        "            nn.Tanh(),\n",
        "            nn.Linear(512, 2),\n",
        "            nn.LogSoftmax(dim=1))\n",
        "\n",
        "\n",
        "optimizer = optim.SGD(model.parameters(), lr=0.02)\n",
        "\n",
        "loss_function = nn.NLLLoss()\n",
        "\n",
        "n_epochs = 100\n",
        "\n",
        "for epoch in range(n_epochs):\n",
        "    for imgs, labels in train_loader:\n",
        "        outputs = model(imgs.view(imgs.shape[0], -1))\n",
        "        loss = loss_function(outputs, labels)\n",
        "\n",
        "        optimizer.zero_grad()\n",
        "        loss.backward()\n",
        "        optimizer.step()\n",
        "\n",
        "    print(\"Epoch: %d, Loss: %f\" % (epoch, float(loss)))"
      ],
      "execution_count": 26,
      "outputs": [
        {
          "output_type": "stream",
          "text": [
            "Epoch: 0, Loss: 0.430275\n",
            "Epoch: 1, Loss: 0.688822\n",
            "Epoch: 2, Loss: 0.326662\n",
            "Epoch: 3, Loss: 0.270212\n",
            "Epoch: 4, Loss: 0.408630\n",
            "Epoch: 5, Loss: 0.250243\n",
            "Epoch: 6, Loss: 0.658389\n",
            "Epoch: 7, Loss: 0.157436\n",
            "Epoch: 8, Loss: 0.070986\n",
            "Epoch: 9, Loss: 0.338247\n",
            "Epoch: 10, Loss: 0.193364\n",
            "Epoch: 11, Loss: 0.207603\n",
            "Epoch: 12, Loss: 0.558861\n",
            "Epoch: 13, Loss: 0.120080\n",
            "Epoch: 14, Loss: 0.236612\n",
            "Epoch: 15, Loss: 0.106038\n",
            "Epoch: 16, Loss: 0.116046\n",
            "Epoch: 17, Loss: 0.046933\n",
            "Epoch: 18, Loss: 0.164320\n",
            "Epoch: 19, Loss: 0.037176\n",
            "Epoch: 20, Loss: 0.125306\n",
            "Epoch: 21, Loss: 0.039985\n",
            "Epoch: 22, Loss: 0.193496\n",
            "Epoch: 23, Loss: 0.040337\n",
            "Epoch: 24, Loss: 0.196122\n",
            "Epoch: 25, Loss: 0.091004\n",
            "Epoch: 26, Loss: 0.029685\n",
            "Epoch: 27, Loss: 0.013391\n",
            "Epoch: 28, Loss: 0.027721\n",
            "Epoch: 29, Loss: 0.026484\n",
            "Epoch: 30, Loss: 0.042574\n",
            "Epoch: 31, Loss: 0.023297\n",
            "Epoch: 32, Loss: 0.014925\n",
            "Epoch: 33, Loss: 0.026350\n",
            "Epoch: 34, Loss: 0.008339\n",
            "Epoch: 35, Loss: 0.011880\n",
            "Epoch: 36, Loss: 0.017042\n",
            "Epoch: 37, Loss: 0.011517\n",
            "Epoch: 38, Loss: 0.022963\n",
            "Epoch: 39, Loss: 0.010558\n",
            "Epoch: 40, Loss: 0.017417\n",
            "Epoch: 41, Loss: 0.007210\n",
            "Epoch: 42, Loss: 0.005969\n",
            "Epoch: 43, Loss: 0.009737\n",
            "Epoch: 44, Loss: 0.008737\n",
            "Epoch: 45, Loss: 0.006184\n",
            "Epoch: 46, Loss: 0.008878\n",
            "Epoch: 47, Loss: 0.003548\n",
            "Epoch: 48, Loss: 0.007520\n",
            "Epoch: 49, Loss: 0.003595\n",
            "Epoch: 50, Loss: 0.004631\n",
            "Epoch: 51, Loss: 0.009906\n",
            "Epoch: 52, Loss: 0.005907\n",
            "Epoch: 53, Loss: 0.005735\n",
            "Epoch: 54, Loss: 0.007671\n",
            "Epoch: 55, Loss: 0.002947\n",
            "Epoch: 56, Loss: 0.001917\n",
            "Epoch: 57, Loss: 0.002553\n",
            "Epoch: 58, Loss: 0.004470\n",
            "Epoch: 59, Loss: 0.008844\n",
            "Epoch: 60, Loss: 0.005473\n",
            "Epoch: 61, Loss: 0.002742\n",
            "Epoch: 62, Loss: 0.006814\n",
            "Epoch: 63, Loss: 0.007610\n",
            "Epoch: 64, Loss: 0.005770\n",
            "Epoch: 65, Loss: 0.002423\n",
            "Epoch: 66, Loss: 0.003264\n",
            "Epoch: 67, Loss: 0.006253\n",
            "Epoch: 68, Loss: 0.001689\n",
            "Epoch: 69, Loss: 0.004211\n",
            "Epoch: 70, Loss: 0.002242\n",
            "Epoch: 71, Loss: 0.005677\n",
            "Epoch: 72, Loss: 0.003284\n",
            "Epoch: 73, Loss: 0.005387\n",
            "Epoch: 74, Loss: 0.002124\n",
            "Epoch: 75, Loss: 0.010032\n",
            "Epoch: 76, Loss: 0.002447\n",
            "Epoch: 77, Loss: 0.002437\n",
            "Epoch: 78, Loss: 0.001996\n",
            "Epoch: 79, Loss: 0.003437\n",
            "Epoch: 80, Loss: 0.002128\n",
            "Epoch: 81, Loss: 0.001384\n",
            "Epoch: 82, Loss: 0.001568\n",
            "Epoch: 83, Loss: 0.001152\n",
            "Epoch: 84, Loss: 0.001429\n",
            "Epoch: 85, Loss: 0.004697\n",
            "Epoch: 86, Loss: 0.003745\n",
            "Epoch: 87, Loss: 0.001628\n",
            "Epoch: 88, Loss: 0.004554\n",
            "Epoch: 89, Loss: 0.002524\n",
            "Epoch: 90, Loss: 0.002876\n",
            "Epoch: 91, Loss: 0.001844\n",
            "Epoch: 92, Loss: 0.003579\n",
            "Epoch: 93, Loss: 0.001888\n",
            "Epoch: 94, Loss: 0.002438\n",
            "Epoch: 95, Loss: 0.002263\n",
            "Epoch: 96, Loss: 0.000623\n",
            "Epoch: 97, Loss: 0.003268\n",
            "Epoch: 98, Loss: 0.001462\n",
            "Epoch: 99, Loss: 0.001818\n"
          ],
          "name": "stdout"
        }
      ]
    },
    {
      "cell_type": "code",
      "metadata": {
        "id": "TpAlttfw2IGh",
        "outputId": "4066e476-ab13-4dd6-fdc1-538ea6b3bccc",
        "colab": {
          "base_uri": "https://localhost:8080/",
          "height": 34
        }
      },
      "source": [
        "val_loader = torch.utils.data.DataLoader(validation_set, batch_size=64, shuffle=False)\n",
        "\n",
        "correct = 0\n",
        "total = 0\n",
        "\n",
        "with torch.no_grad():\n",
        "    for imgs, labels in val_loader:\n",
        "        outputs = model(imgs.view(imgs.shape[0], -1))\n",
        "        _, predicted = torch.max(outputs, dim=1)\n",
        "        total += labels.shape[0]\n",
        "\n",
        "        correct += int((predicted == labels).sum())\n",
        "      \n",
        "print(\"Accuracy: %f\" % (correct / total))"
      ],
      "execution_count": 27,
      "outputs": [
        {
          "output_type": "stream",
          "text": [
            "Accuracy: 0.861500\n"
          ],
          "name": "stdout"
        }
      ]
    },
    {
      "cell_type": "code",
      "metadata": {
        "id": "Z7bxh9P42LKG",
        "outputId": "5ac09dde-eede-445d-ff44-52e5819b211b",
        "colab": {
          "base_uri": "https://localhost:8080/",
          "height": 300
        }
      },
      "source": [
        "img, label = validation_set[20]\n",
        "out = model(img.view(-1).unsqueeze(0))\n",
        "_, index = torch.max(out, dim=1)\n",
        "\n",
        "print('->: ',class_names[label],' model:',class_names[index])\n",
        "plt.imshow(img.permute(1, 2, 0))\n",
        "plt.show()"
      ],
      "execution_count": 28,
      "outputs": [
        {
          "output_type": "stream",
          "text": [
            "Clipping input data to the valid range for imshow with RGB data ([0..1] for floats or [0..255] for integers).\n"
          ],
          "name": "stderr"
        },
        {
          "output_type": "stream",
          "text": [
            "->:  car  model: car\n"
          ],
          "name": "stdout"
        },
        {
          "output_type": "display_data",
          "data": {
            "image/png": "[encoded data removed]",
            "text/plain": [
              "<Figure size 432x288 with 1 Axes>"
            ]
          },
          "metadata": {
            "tags": [],
            "needs_background": "light"
          }
        }
      ]
    },
    {
      "cell_type": "code",
      "metadata": {
        "id": "9tUkIBKA51ev",
        "outputId": "4b6c65a8-2eb6-4eda-b0f0-a8e7ac0f2922",
        "colab": {
          "base_uri": "https://localhost:8080/",
          "height": 1000
        }
      },
      "source": [
        "train_loader = torch.utils.data.DataLoader(data_set, batch_size=64, shuffle=True)\n",
        "\n",
        "model = nn.Sequential(\n",
        "            nn.Linear(3072, 1024),\n",
        "            nn.Tanh(),\n",
        "            nn.Linear(1024, 512),\n",
        "            nn.Tanh(),\n",
        "            nn.Linear(512, 128),\n",
        "            nn.Tanh(),\n",
        "            nn.Linear(128, 2))\n",
        "\n",
        "learning_rate = 0.01\n",
        "\n",
        "optimizer = optim.SGD(model.parameters(), lr=learning_rate)\n",
        "\n",
        "loss_fn = nn.CrossEntropyLoss()\n",
        "\n",
        "n_epochs = 100\n",
        "\n",
        "for epoch in range(n_epochs):\n",
        "    for imgs, labels in train_loader:\n",
        "        outputs = model(imgs.view(imgs.shape[0], -1))\n",
        "        loss = loss_fn(outputs, labels)\n",
        "\n",
        "        optimizer.zero_grad()\n",
        "        loss.backward()\n",
        "        optimizer.step()\n",
        "\n",
        "    print(\"Epoch: %d, Loss: %f\" % (epoch, float(loss)))"
      ],
      "execution_count": 29,
      "outputs": [
        {
          "output_type": "stream",
          "text": [
            "Epoch: 0, Loss: 0.407647\n",
            "Epoch: 1, Loss: 0.571862\n",
            "Epoch: 2, Loss: 0.492612\n",
            "Epoch: 3, Loss: 0.268718\n",
            "Epoch: 4, Loss: 0.146633\n",
            "Epoch: 5, Loss: 0.301270\n",
            "Epoch: 6, Loss: 0.296401\n",
            "Epoch: 7, Loss: 0.665238\n",
            "Epoch: 8, Loss: 0.508077\n",
            "Epoch: 9, Loss: 0.342795\n",
            "Epoch: 10, Loss: 0.439208\n",
            "Epoch: 11, Loss: 0.463515\n",
            "Epoch: 12, Loss: 0.140954\n",
            "Epoch: 13, Loss: 0.223653\n",
            "Epoch: 14, Loss: 0.108889\n",
            "Epoch: 15, Loss: 0.082902\n",
            "Epoch: 16, Loss: 0.074982\n",
            "Epoch: 17, Loss: 0.132626\n",
            "Epoch: 18, Loss: 0.169252\n",
            "Epoch: 19, Loss: 0.242822\n",
            "Epoch: 20, Loss: 0.187117\n",
            "Epoch: 21, Loss: 0.242530\n",
            "Epoch: 22, Loss: 0.168156\n",
            "Epoch: 23, Loss: 0.141483\n",
            "Epoch: 24, Loss: 0.158546\n",
            "Epoch: 25, Loss: 0.066947\n",
            "Epoch: 26, Loss: 0.222302\n",
            "Epoch: 27, Loss: 0.149862\n",
            "Epoch: 28, Loss: 0.026774\n",
            "Epoch: 29, Loss: 0.070960\n",
            "Epoch: 30, Loss: 0.104735\n",
            "Epoch: 31, Loss: 0.133245\n",
            "Epoch: 32, Loss: 0.072946\n",
            "Epoch: 33, Loss: 0.079102\n",
            "Epoch: 34, Loss: 0.004462\n",
            "Epoch: 35, Loss: 0.039775\n",
            "Epoch: 36, Loss: 0.007121\n",
            "Epoch: 37, Loss: 0.063589\n",
            "Epoch: 38, Loss: 0.032103\n",
            "Epoch: 39, Loss: 0.010405\n",
            "Epoch: 40, Loss: 0.007236\n",
            "Epoch: 41, Loss: 0.002804\n",
            "Epoch: 42, Loss: 0.009628\n",
            "Epoch: 43, Loss: 0.001314\n",
            "Epoch: 44, Loss: 0.003216\n",
            "Epoch: 45, Loss: 0.000810\n",
            "Epoch: 46, Loss: 0.000437\n",
            "Epoch: 47, Loss: 0.003710\n",
            "Epoch: 48, Loss: 0.002580\n",
            "Epoch: 49, Loss: 0.002100\n",
            "Epoch: 50, Loss: 0.001368\n",
            "Epoch: 51, Loss: 0.002036\n",
            "Epoch: 52, Loss: 0.001788\n",
            "Epoch: 53, Loss: 0.001834\n",
            "Epoch: 54, Loss: 0.001081\n",
            "Epoch: 55, Loss: 0.001012\n",
            "Epoch: 56, Loss: 0.000619\n",
            "Epoch: 57, Loss: 0.000690\n",
            "Epoch: 58, Loss: 0.001834\n",
            "Epoch: 59, Loss: 0.000553\n",
            "Epoch: 60, Loss: 0.000505\n",
            "Epoch: 61, Loss: 0.001019\n",
            "Epoch: 62, Loss: 0.000573\n",
            "Epoch: 63, Loss: 0.001657\n",
            "Epoch: 64, Loss: 0.000704\n",
            "Epoch: 65, Loss: 0.000113\n",
            "Epoch: 66, Loss: 0.000954\n",
            "Epoch: 67, Loss: 0.000247\n",
            "Epoch: 68, Loss: 0.000510\n",
            "Epoch: 69, Loss: 0.000794\n",
            "Epoch: 70, Loss: 0.001509\n",
            "Epoch: 71, Loss: 0.000655\n",
            "Epoch: 72, Loss: 0.000508\n",
            "Epoch: 73, Loss: 0.000346\n",
            "Epoch: 74, Loss: 0.001888\n",
            "Epoch: 75, Loss: 0.000572\n",
            "Epoch: 76, Loss: 0.000387\n",
            "Epoch: 77, Loss: 0.000896\n",
            "Epoch: 78, Loss: 0.000412\n",
            "Epoch: 79, Loss: 0.000535\n",
            "Epoch: 80, Loss: 0.000328\n",
            "Epoch: 81, Loss: 0.000707\n",
            "Epoch: 82, Loss: 0.000427\n",
            "Epoch: 83, Loss: 0.000367\n",
            "Epoch: 84, Loss: 0.000613\n",
            "Epoch: 85, Loss: 0.001549\n",
            "Epoch: 86, Loss: 0.000735\n",
            "Epoch: 87, Loss: 0.000232\n",
            "Epoch: 88, Loss: 0.000214\n",
            "Epoch: 89, Loss: 0.000528\n",
            "Epoch: 90, Loss: 0.000361\n",
            "Epoch: 91, Loss: 0.000202\n",
            "Epoch: 92, Loss: 0.000456\n",
            "Epoch: 93, Loss: 0.000177\n",
            "Epoch: 94, Loss: 0.000200\n",
            "Epoch: 95, Loss: 0.000290\n",
            "Epoch: 96, Loss: 0.000318\n",
            "Epoch: 97, Loss: 0.000271\n",
            "Epoch: 98, Loss: 0.000348\n",
            "Epoch: 99, Loss: 0.000420\n"
          ],
          "name": "stdout"
        }
      ]
    },
    {
      "cell_type": "code",
      "metadata": {
        "id": "JeEnCy0k6aoh"
      },
      "source": [
        "val_loader = torch.utils.data.DataLoader(validation_set, batch_size=64, shuffle=False)\n",
        "\n",
        "correct = 0\n",
        "total = 0\n",
        "\n",
        "with torch.no_grad():\n",
        "    for imgs, labels in val_loader:\n",
        "        outputs = model(imgs.view(imgs.shape[0], -1))\n",
        "        _, predicted = torch.max(outputs, dim=1)\n",
        "        total += labels.shape[0]\n",
        "        correct += int((predicted == labels).sum())\n",
        "        \n",
        "print(\"Accuracy: %f\" % (correct / total))"
      ],
      "execution_count": null,
      "outputs": []
    },
    {
      "cell_type": "code",
      "metadata": {
        "id": "BZgRua9n6bLd"
      },
      "source": [
        "train_loader = torch.utils.data.DataLoader(data_set, batch_size=64, shuffle=False)\n",
        "\n",
        "correct = 0\n",
        "total = 0"
      ],
      "execution_count": null,
      "outputs": []
    },
    {
      "cell_type": "code",
      "metadata": {
        "id": "8G5i9IFb6dbf"
      },
      "source": [
        "img, label = validation_set[1]\n",
        "out = model(img.view(-1).unsqueeze(0))\n",
        "_, index = torch.max(out, dim=1)\n",
        "\n",
        "print('correct: ',class_names[label],' model:',class_names[index])\n",
        "plt.imshow(img.permute(1, 2, 0))"
      ],
      "execution_count": null,
      "outputs": []
    },
    {
      "cell_type": "code",
      "metadata": {
        "id": "8_c4lEw-6kVK"
      },
      "source": [
        "sum([p.numel() for p in model.parameters() if p.requires_grad == True])"
      ],
      "execution_count": null,
      "outputs": []
    },
    {
      "cell_type": "code",
      "metadata": {
        "id": "LpSsGhMJ6mwn"
      },
      "source": [
        "first_model = nn.Sequential(\n",
        "                nn.Linear(3072, 512),\n",
        "                nn.Tanh(),\n",
        "                nn.Linear(512, 2),\n",
        "                nn.LogSoftmax(dim=1))\n",
        "\n",
        "sum([p.numel() for p in first_model.parameters()])"
      ],
      "execution_count": null,
      "outputs": []
    },
    {
      "cell_type": "code",
      "metadata": {
        "id": "mT_6tpb06onx"
      },
      "source": [
        "sum([p.numel() for p in nn.Linear(3072, 512).parameters()])"
      ],
      "execution_count": null,
      "outputs": []
    },
    {
      "cell_type": "code",
      "metadata": {
        "id": "fKAOAYR_6qfB"
      },
      "source": [
        "sum([p.numel() for p in nn.Linear(3072, 1024).parameters()])"
      ],
      "execution_count": null,
      "outputs": []
    },
    {
      "cell_type": "code",
      "metadata": {
        "id": "BORxSBbb6rRH"
      },
      "source": [
        "image = request.urlretrieve('https://i.pinimg.com/originals/43/bc/47/43bc47066bb8b2fa4fe7cc8e82cc3714.jpg','test,jpg')\n",
        "                            \n",
        "img = Image.open(image[0])\n",
        "\n",
        "preprocess = transforms.Compose([\n",
        "        transforms.Resize(48),\n",
        "        transforms.CenterCrop(32),\n",
        "        transforms.ToTensor(),\n",
        "        transforms.Normalize(\n",
        "            mean=[0.4915, 0.4823, 0.4468],\n",
        "            std=[0.2470, 0.2435, 0.2616]\n",
        "        )])\n",
        "\n",
        "img_t = preprocess(img)\n",
        "out = model(img_t.view(-1).unsqueeze(0))\n",
        "_, index = torch.max(out, dim=1)\n",
        "print('correct: car ',' model:',class_names[index])\n",
        "plt.imshow(img_t.permute(1, 2, 0))"
      ],
      "execution_count": null,
      "outputs": []
    }
  ]
}